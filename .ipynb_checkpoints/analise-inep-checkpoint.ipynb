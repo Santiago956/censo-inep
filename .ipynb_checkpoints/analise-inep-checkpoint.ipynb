{
 "cells": [
  {
   "cell_type": "markdown",
   "id": "2f59dd1a-799c-4477-ac86-f812e4ecf001",
   "metadata": {},
   "source": [
    "## 1. Introdução"
   ]
  },
  {
   "cell_type": "code",
   "execution_count": null,
   "id": "22e2ba9e-4670-4560-a3f0-fb1f6b774fe8",
   "metadata": {},
   "outputs": [],
   "source": []
  },
  {
   "cell_type": "code",
   "execution_count": null,
   "id": "82312a08-f45c-49e9-9e7f-85117820d50a",
   "metadata": {},
   "outputs": [],
   "source": []
  },
  {
   "cell_type": "markdown",
   "id": "d7923e6b-947a-40cb-8334-d912b1a0d913",
   "metadata": {},
   "source": [
    "## 2. Importação e Limpeza dos dados"
   ]
  },
  {
   "cell_type": "code",
   "execution_count": 26,
   "id": "e8de3aa4-1db7-4984-9f50-2096eb79d7d6",
   "metadata": {},
   "outputs": [
    {
     "name": "stdout",
     "output_type": "stream",
     "text": [
      "Downloading: 100%|\u001b[32m██████████████████████████████████████████████████████████████████████████████████\u001b[0m|\u001b[0m\n"
     ]
    }
   ],
   "source": [
    "#Importando bibliotecas\n",
    "import pandas as pd\n",
    "import matplotlib.pyplot as plt\n",
    "import basedosdados as bd\n",
    "import seaborn as sns\n",
    "\n",
    "#Importando dados\n",
    "\n",
    "billing_id = 'nimble-volt-461222-e1'\n",
    "\n",
    "query = \"\"\"\n",
    "  SELECT\n",
    "    dados.ano as ano,\n",
    "    dados.rede as rede,\n",
    "    dados.ensino as ensino,\n",
    "    dados.anos_escolares as anos_escolares,\n",
    "    dados.taxa_aprovacao as taxa_aprovacao,\n",
    "    dados.ideb as ideb\n",
    "FROM `basedosdados.br_inep_ideb.brasil` AS dados\n",
    "\"\"\"\n",
    "\n",
    "df = bd.read_sql(query = query, billing_project_id = billing_id)"
   ]
  },
  {
   "cell_type": "code",
   "execution_count": 174,
   "id": "87cb1f11-15da-44e6-9a4f-23a68849fae6",
   "metadata": {},
   "outputs": [],
   "source": [
    "#Cópia dos dados \n",
    "df.to_csv('data/inep.csv', index=False)"
   ]
  },
  {
   "cell_type": "code",
   "execution_count": 2,
   "id": "75dac4f8-9415-4db7-8ddd-4c6807d402a1",
   "metadata": {},
   "outputs": [
    {
     "data": {
      "text/html": [
       "<div>\n",
       "<style scoped>\n",
       "    .dataframe tbody tr th:only-of-type {\n",
       "        vertical-align: middle;\n",
       "    }\n",
       "\n",
       "    .dataframe tbody tr th {\n",
       "        vertical-align: top;\n",
       "    }\n",
       "\n",
       "    .dataframe thead th {\n",
       "        text-align: right;\n",
       "    }\n",
       "</style>\n",
       "<table border=\"1\" class=\"dataframe\">\n",
       "  <thead>\n",
       "    <tr style=\"text-align: right;\">\n",
       "      <th></th>\n",
       "      <th>ano</th>\n",
       "      <th>rede</th>\n",
       "      <th>ensino</th>\n",
       "      <th>anos_escolares</th>\n",
       "      <th>taxa_aprovacao</th>\n",
       "      <th>ideb</th>\n",
       "    </tr>\n",
       "  </thead>\n",
       "  <tbody>\n",
       "    <tr>\n",
       "      <th>0</th>\n",
       "      <td>2005</td>\n",
       "      <td>privada</td>\n",
       "      <td>medio</td>\n",
       "      <td>todos (1-4)</td>\n",
       "      <td>92.7</td>\n",
       "      <td>5.6</td>\n",
       "    </tr>\n",
       "    <tr>\n",
       "      <th>1</th>\n",
       "      <td>2005</td>\n",
       "      <td>estadual</td>\n",
       "      <td>medio</td>\n",
       "      <td>todos (1-4)</td>\n",
       "      <td>70.5</td>\n",
       "      <td>3.0</td>\n",
       "    </tr>\n",
       "    <tr>\n",
       "      <th>2</th>\n",
       "      <td>2005</td>\n",
       "      <td>total</td>\n",
       "      <td>medio</td>\n",
       "      <td>todos (1-4)</td>\n",
       "      <td>73.2</td>\n",
       "      <td>3.4</td>\n",
       "    </tr>\n",
       "    <tr>\n",
       "      <th>3</th>\n",
       "      <td>2005</td>\n",
       "      <td>publica</td>\n",
       "      <td>medio</td>\n",
       "      <td>todos (1-4)</td>\n",
       "      <td>70.6</td>\n",
       "      <td>3.1</td>\n",
       "    </tr>\n",
       "    <tr>\n",
       "      <th>4</th>\n",
       "      <td>2005</td>\n",
       "      <td>total</td>\n",
       "      <td>fundamental</td>\n",
       "      <td>finais (6-9)</td>\n",
       "      <td>77.0</td>\n",
       "      <td>3.5</td>\n",
       "    </tr>\n",
       "  </tbody>\n",
       "</table>\n",
       "</div>"
      ],
      "text/plain": [
       "    ano      rede       ensino anos_escolares  taxa_aprovacao  ideb\n",
       "0  2005   privada        medio    todos (1-4)            92.7   5.6\n",
       "1  2005  estadual        medio    todos (1-4)            70.5   3.0\n",
       "2  2005     total        medio    todos (1-4)            73.2   3.4\n",
       "3  2005   publica        medio    todos (1-4)            70.6   3.1\n",
       "4  2005     total  fundamental   finais (6-9)            77.0   3.5"
      ]
     },
     "execution_count": 2,
     "metadata": {},
     "output_type": "execute_result"
    }
   ],
   "source": [
    "#Visão geral\n",
    "df.head()"
   ]
  },
  {
   "cell_type": "code",
   "execution_count": 3,
   "id": "b5227874-6fbf-446e-b4bb-3f2d7e29523e",
   "metadata": {},
   "outputs": [
    {
     "name": "stdout",
     "output_type": "stream",
     "text": [
      "Linhas: 140 Colunas: 6\n"
     ]
    }
   ],
   "source": [
    "#Tamanho da base\n",
    "print(f\"Linhas: {df.shape[0]} Colunas: {df.shape[1]}\")"
   ]
  },
  {
   "cell_type": "code",
   "execution_count": 170,
   "id": "512f6f1f-2b86-491a-a0d2-fb98f9ed5bf2",
   "metadata": {},
   "outputs": [
    {
     "data": {
      "text/html": [
       "<div>\n",
       "<style scoped>\n",
       "    .dataframe tbody tr th:only-of-type {\n",
       "        vertical-align: middle;\n",
       "    }\n",
       "\n",
       "    .dataframe tbody tr th {\n",
       "        vertical-align: top;\n",
       "    }\n",
       "\n",
       "    .dataframe thead th {\n",
       "        text-align: right;\n",
       "    }\n",
       "</style>\n",
       "<table border=\"1\" class=\"dataframe\">\n",
       "  <thead>\n",
       "    <tr style=\"text-align: right;\">\n",
       "      <th></th>\n",
       "      <th>ano</th>\n",
       "      <th>rede</th>\n",
       "      <th>ensino</th>\n",
       "      <th>anos_escolares</th>\n",
       "      <th>taxa_aprovacao</th>\n",
       "      <th>ideb</th>\n",
       "    </tr>\n",
       "  </thead>\n",
       "  <tbody>\n",
       "    <tr>\n",
       "      <th>126</th>\n",
       "      <td>2023</td>\n",
       "      <td>privada</td>\n",
       "      <td>medio</td>\n",
       "      <td>todos (1-4)</td>\n",
       "      <td>97.1</td>\n",
       "      <td>5.6</td>\n",
       "    </tr>\n",
       "    <tr>\n",
       "      <th>127</th>\n",
       "      <td>2023</td>\n",
       "      <td>estadual</td>\n",
       "      <td>medio</td>\n",
       "      <td>todos (1-4)</td>\n",
       "      <td>90.5</td>\n",
       "      <td>4.1</td>\n",
       "    </tr>\n",
       "    <tr>\n",
       "      <th>128</th>\n",
       "      <td>2023</td>\n",
       "      <td>total</td>\n",
       "      <td>medio</td>\n",
       "      <td>todos (1-4)</td>\n",
       "      <td>91.3</td>\n",
       "      <td>4.3</td>\n",
       "    </tr>\n",
       "    <tr>\n",
       "      <th>129</th>\n",
       "      <td>2023</td>\n",
       "      <td>publica</td>\n",
       "      <td>medio</td>\n",
       "      <td>todos (1-4)</td>\n",
       "      <td>90.5</td>\n",
       "      <td>4.1</td>\n",
       "    </tr>\n",
       "  </tbody>\n",
       "</table>\n",
       "</div>"
      ],
      "text/plain": [
       "      ano      rede ensino anos_escolares  taxa_aprovacao  ideb\n",
       "126  2023   privada  medio    todos (1-4)            97.1   5.6\n",
       "127  2023  estadual  medio    todos (1-4)            90.5   4.1\n",
       "128  2023     total  medio    todos (1-4)            91.3   4.3\n",
       "129  2023   publica  medio    todos (1-4)            90.5   4.1"
      ]
     },
     "execution_count": 170,
     "metadata": {},
     "output_type": "execute_result"
    }
   ],
   "source": [
    "#Explorando a categoria \"todos(1-4)\" da base\n",
    "df.loc[(df['anos_escolares'] == 'todos (1-4)') & (df['ano'] == 2023)]"
   ]
  },
  {
   "cell_type": "markdown",
   "id": "6308ffbf-7b29-48b9-bcfb-5dd588b43186",
   "metadata": {},
   "source": [
    "Os registros 'todos (1-4)' na realidade se tratam dos anos do ensino médio, ainda contabilizando pela época em que haviam 4 anos no ensino médio. Para evitar confusão com os rótulos, irei alterar o nome desses registros."
   ]
  },
  {
   "cell_type": "code",
   "execution_count": 172,
   "id": "853929c8-592e-4d82-9de7-e3efe019d648",
   "metadata": {},
   "outputs": [
    {
     "data": {
      "text/plain": [
       "0      medio_todos (1-3)\n",
       "1      medio_todos (1-3)\n",
       "2      medio_todos (1-3)\n",
       "3      medio_todos (1-3)\n",
       "4           finais (6-9)\n",
       "             ...        \n",
       "135       iniciais (1-5)\n",
       "136       iniciais (1-5)\n",
       "137       iniciais (1-5)\n",
       "138       iniciais (1-5)\n",
       "139       iniciais (1-5)\n",
       "Name: anos_escolares, Length: 140, dtype: object"
      ]
     },
     "execution_count": 172,
     "metadata": {},
     "output_type": "execute_result"
    }
   ],
   "source": [
    "df['anos_escolares'].apply(lambda x: \"medio_todos (1-3)\" if x == 'todos (1-4)' else x)"
   ]
  },
  {
   "cell_type": "code",
   "execution_count": 176,
   "id": "443558b2-4cba-4df7-9095-cb63ff004e83",
   "metadata": {},
   "outputs": [
    {
     "name": "stdout",
     "output_type": "stream",
     "text": [
      "ano               0\n",
      "rede              0\n",
      "ensino            0\n",
      "anos_escolares    0\n",
      "taxa_aprovacao    0\n",
      "ideb              0\n",
      "dtype: int64\n",
      "\n",
      "Não temos valores nulos\n",
      "\n"
     ]
    }
   ],
   "source": [
    "#Valores nulos\n",
    "print(df.isnull().sum())\n",
    "print(\"\\nNão temos valores nulos\\n\")\n",
    "\n",
    "#Cópia dos dados normalizados\n",
    "df.to_csv('data/inep_normalizado.csv', index=False)"
   ]
  },
  {
   "cell_type": "markdown",
   "id": "bdf31643-e102-4971-94da-1d3636c15040",
   "metadata": {},
   "source": [
    "## 3. Análise Exploratória"
   ]
  },
  {
   "cell_type": "code",
   "execution_count": 27,
   "id": "fecab9a4-8b98-4c9c-ac1e-25b3f5d19959",
   "metadata": {},
   "outputs": [
    {
     "data": {
      "text/html": [
       "<div>\n",
       "<style scoped>\n",
       "    .dataframe tbody tr th:only-of-type {\n",
       "        vertical-align: middle;\n",
       "    }\n",
       "\n",
       "    .dataframe tbody tr th {\n",
       "        vertical-align: top;\n",
       "    }\n",
       "\n",
       "    .dataframe thead th {\n",
       "        text-align: right;\n",
       "    }\n",
       "</style>\n",
       "<table border=\"1\" class=\"dataframe\">\n",
       "  <thead>\n",
       "    <tr style=\"text-align: right;\">\n",
       "      <th></th>\n",
       "      <th>ano</th>\n",
       "      <th>taxa_aprovacao</th>\n",
       "      <th>ideb</th>\n",
       "    </tr>\n",
       "  </thead>\n",
       "  <tbody>\n",
       "    <tr>\n",
       "      <th>count</th>\n",
       "      <td>140.0</td>\n",
       "      <td>140.000000</td>\n",
       "      <td>140.000000</td>\n",
       "    </tr>\n",
       "    <tr>\n",
       "      <th>mean</th>\n",
       "      <td>2014.0</td>\n",
       "      <td>88.180000</td>\n",
       "      <td>4.737143</td>\n",
       "    </tr>\n",
       "    <tr>\n",
       "      <th>std</th>\n",
       "      <td>5.76519</td>\n",
       "      <td>7.948397</td>\n",
       "      <td>1.069818</td>\n",
       "    </tr>\n",
       "    <tr>\n",
       "      <th>min</th>\n",
       "      <td>2005.0</td>\n",
       "      <td>70.500000</td>\n",
       "      <td>3.000000</td>\n",
       "    </tr>\n",
       "    <tr>\n",
       "      <th>25%</th>\n",
       "      <td>2009.0</td>\n",
       "      <td>81.675000</td>\n",
       "      <td>3.800000</td>\n",
       "    </tr>\n",
       "    <tr>\n",
       "      <th>50%</th>\n",
       "      <td>2014.0</td>\n",
       "      <td>90.100000</td>\n",
       "      <td>4.600000</td>\n",
       "    </tr>\n",
       "    <tr>\n",
       "      <th>75%</th>\n",
       "      <td>2019.0</td>\n",
       "      <td>94.725000</td>\n",
       "      <td>5.700000</td>\n",
       "    </tr>\n",
       "    <tr>\n",
       "      <th>max</th>\n",
       "      <td>2023.0</td>\n",
       "      <td>99.300000</td>\n",
       "      <td>7.200000</td>\n",
       "    </tr>\n",
       "  </tbody>\n",
       "</table>\n",
       "</div>"
      ],
      "text/plain": [
       "           ano  taxa_aprovacao        ideb\n",
       "count    140.0      140.000000  140.000000\n",
       "mean    2014.0       88.180000    4.737143\n",
       "std    5.76519        7.948397    1.069818\n",
       "min     2005.0       70.500000    3.000000\n",
       "25%     2009.0       81.675000    3.800000\n",
       "50%     2014.0       90.100000    4.600000\n",
       "75%     2019.0       94.725000    5.700000\n",
       "max     2023.0       99.300000    7.200000"
      ]
     },
     "execution_count": 27,
     "metadata": {},
     "output_type": "execute_result"
    }
   ],
   "source": [
    "#Estatísticas quantitativas gerais\n",
    "df.describe()"
   ]
  },
  {
   "cell_type": "code",
   "execution_count": 11,
   "id": "e8c7d515-b2dc-4e1b-a1a4-e7eb0b0eaccc",
   "metadata": {},
   "outputs": [
    {
     "data": {
      "text/html": [
       "<div>\n",
       "<style scoped>\n",
       "    .dataframe tbody tr th:only-of-type {\n",
       "        vertical-align: middle;\n",
       "    }\n",
       "\n",
       "    .dataframe tbody tr th {\n",
       "        vertical-align: top;\n",
       "    }\n",
       "\n",
       "    .dataframe thead th {\n",
       "        text-align: right;\n",
       "    }\n",
       "</style>\n",
       "<table border=\"1\" class=\"dataframe\">\n",
       "  <thead>\n",
       "    <tr style=\"text-align: right;\">\n",
       "      <th></th>\n",
       "      <th>rede</th>\n",
       "      <th>ensino</th>\n",
       "      <th>anos_escolares</th>\n",
       "    </tr>\n",
       "  </thead>\n",
       "  <tbody>\n",
       "    <tr>\n",
       "      <th>count</th>\n",
       "      <td>140</td>\n",
       "      <td>140</td>\n",
       "      <td>140</td>\n",
       "    </tr>\n",
       "    <tr>\n",
       "      <th>unique</th>\n",
       "      <td>5</td>\n",
       "      <td>2</td>\n",
       "      <td>3</td>\n",
       "    </tr>\n",
       "    <tr>\n",
       "      <th>top</th>\n",
       "      <td>privada</td>\n",
       "      <td>fundamental</td>\n",
       "      <td>finais (6-9)</td>\n",
       "    </tr>\n",
       "    <tr>\n",
       "      <th>freq</th>\n",
       "      <td>30</td>\n",
       "      <td>100</td>\n",
       "      <td>50</td>\n",
       "    </tr>\n",
       "  </tbody>\n",
       "</table>\n",
       "</div>"
      ],
      "text/plain": [
       "           rede       ensino anos_escolares\n",
       "count       140          140            140\n",
       "unique        5            2              3\n",
       "top     privada  fundamental   finais (6-9)\n",
       "freq         30          100             50"
      ]
     },
     "execution_count": 11,
     "metadata": {},
     "output_type": "execute_result"
    }
   ],
   "source": [
    "#Estatísticas qualitativas gerais\n",
    "df.describe(include='object')"
   ]
  },
  {
   "cell_type": "markdown",
   "id": "c5d1dbfb-64d4-4498-a900-585d8f0312a4",
   "metadata": {},
   "source": [
    "### 3.1 Panorama recente "
   ]
  },
  {
   "cell_type": "code",
   "execution_count": 57,
   "id": "3d112c1f-102a-4ab3-921a-c42807a7c7c3",
   "metadata": {},
   "outputs": [],
   "source": [
    "#Filtrando pelo ano mais recente presente na base\n",
    "df_2023 = df[df['ano'] == 2023]"
   ]
  },
  {
   "cell_type": "markdown",
   "id": "bb77bb6f-568b-4f85-95cd-3c3c129ede1a",
   "metadata": {},
   "source": [
    "#### 3.1.1 Média de IDEB por rede de ensino"
   ]
  },
  {
   "cell_type": "code",
   "execution_count": 180,
   "id": "9f62bca8-572a-49e4-b5f3-e60d3163233e",
   "metadata": {},
   "outputs": [],
   "source": [
    "#Estilizando gráficos\n",
    "sns.set_style(\"whitegrid\")\n",
    "sns.set_palette(\"crest\")"
   ]
  },
  {
   "cell_type": "code",
   "execution_count": 181,
   "id": "bd12da53-0af4-4d1a-b69f-80514205f425",
   "metadata": {},
   "outputs": [
    {
     "data": {
      "image/png": "[encoded data removed]",
      "text/plain": [
       "<Figure size 640x480 with 1 Axes>"
      ]
     },
     "metadata": {},
     "output_type": "display_data"
    }
   ],
   "source": [
    "sns.barplot(data=df_2023.sort_values(by='ideb'), y='rede', x='ideb', ci=None)\n",
    "plt.ylabel(\"\")\n",
    "plt.xlabel(\"IDEB Médio\")\n",
    "plt.title(\"IDEB Médio por Rede\", fontsize= 14, weight='bold')\n",
    "sns.despine(left=True, bottom=True)\n",
    "plt.show()"
   ]
  },
  {
   "cell_type": "markdown",
   "id": "5a288af6-2d9f-466e-908e-57dcc89044fc",
   "metadata": {},
   "source": [
    "#### 3.1.2 Taxa de Aprovação por rede de ensino"
   ]
  },
  {
   "cell_type": "code",
   "execution_count": 182,
   "id": "7cfc3b32-d221-4197-a90d-a0a07a463fe7",
   "metadata": {},
   "outputs": [
    {
     "data": {
      "image/png": "[encoded data removed]",
      "text/plain": [
       "<Figure size 640x480 with 1 Axes>"
      ]
     },
     "metadata": {},
     "output_type": "display_data"
    }
   ],
   "source": [
    "\n",
    "ax = sns.barplot(data=df_2023, x='taxa_aprovacao', y='rede',  ci=None)\n",
    "plt.title(\"Taxa de Aprovação por Rede\", fontsize= 14, weight='bold')\n",
    "plt.xlabel(\"Taxa de Aprovação (%)\")\n",
    "plt.ylabel(\"\")\n",
    "sns.despine(left=True, bottom=True)\n",
    "\n",
    "\n",
    "for p in ax.patches:\n",
    "    ax.text(\n",
    "        p.get_width() + 0.5,              \n",
    "        p.get_y() + p.get_height()/2,     \n",
    "        f\"{p.get_width():.1f}%\",          \n",
    "        va=\"center\", fontsize=10\n",
    "    )\n",
    "\n",
    "plt.show()"
   ]
  },
  {
   "cell_type": "markdown",
   "id": "ed2e5447-e746-4a65-a33e-a3839c5ec7ba",
   "metadata": {},
   "source": [
    "#### 3.1.3 Média de IDEB por ensino"
   ]
  },
  {
   "cell_type": "code",
   "execution_count": 183,
   "id": "0c27c774-81b0-4fe7-ad2c-caa29f379a73",
   "metadata": {},
   "outputs": [
    {
     "data": {
      "image/png": "[encoded data removed]",
      "text/plain": [
       "<Figure size 640x480 with 1 Axes>"
      ]
     },
     "metadata": {},
     "output_type": "display_data"
    }
   ],
   "source": [
    "sns.set_palette(\"pastel\")\n",
    "sns.barplot(data=df_2023.sort_values(by='ideb'), x='ensino', y='ideb', ci=None, width=0.4)\n",
    "plt.ylabel(\"IDEB Médio\")\n",
    "plt.xlabel(\"\")\n",
    "plt.title(\"IDEB Médio por Ensino\",fontsize= 14, weight='bold')\n",
    "sns.despine(left=True, bottom=True)\n",
    "plt.show()"
   ]
  },
  {
   "cell_type": "markdown",
   "id": "211685a0-b9a4-4751-9b66-0cdfa5312d94",
   "metadata": {},
   "source": [
    "#### 3.1.3 Taxa de Aprovação por ensino"
   ]
  },
  {
   "cell_type": "code",
   "execution_count": 187,
   "id": "7da1f8b1-d68a-4b2c-ac46-2e56dbbfc359",
   "metadata": {},
   "outputs": [
    {
     "data": {
      "image/png": "[encoded data removed]",
      "text/plain": [
       "<Figure size 640x480 with 1 Axes>"
      ]
     },
     "metadata": {},
     "output_type": "display_data"
    }
   ],
   "source": [
    "ax = sns.barplot(data=df_2023, x='ensino', y='taxa_aprovacao', ci=None, width=0.4)\n",
    "plt.title(\"Taxa de Aprovação por Ensino\\n\", fontsize= 14, weight='bold')\n",
    "plt.xlabel(\"\")\n",
    "plt.ylabel(\"Taxa de Aprovação (%)\")\n",
    "sns.despine(left=True, bottom=True)\n",
    "\n",
    "\n",
    "for p in ax.patches:\n",
    "    ax.text(\n",
    "        x=p.get_x() + p.get_width() / 2,  \n",
    "        y=p.get_height() + 0.5,           \n",
    "        s=f\"{p.get_height():.1f}%\",       \n",
    "        ha='center'                       \n",
    "    )\n",
    "\n",
    "plt.show()"
   ]
  }
 ],
 "metadata": {
  "kernelspec": {
   "display_name": "Python [conda env:base] *",
   "language": "python",
   "name": "conda-base-py"
  },
  "language_info": {
   "codemirror_mode": {
    "name": "ipython",
    "version": 3
   },
   "file_extension": ".py",
   "mimetype": "text/x-python",
   "name": "python",
   "nbconvert_exporter": "python",
   "pygments_lexer": "ipython3",
   "version": "3.12.7"
  }
 },
 "nbformat": 4,
 "nbformat_minor": 5
}
